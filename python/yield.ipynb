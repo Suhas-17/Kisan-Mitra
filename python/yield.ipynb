{
 "cells": [
  {
   "cell_type": "code",
   "execution_count": 1,
   "metadata": {},
   "outputs": [],
   "source": [
    "import pandas as pd\n",
    "import matplotlib.pyplot as plt\n",
    "import numpy as np"
   ]
  },
  {
   "cell_type": "code",
   "execution_count": 2,
   "metadata": {},
   "outputs": [
    {
     "data": {
      "text/plain": [
       "array(['BAGALKOT', 'BANGALORE RURAL', 'BELGAUM', 'BELLARY',\n",
       "       'BENGALURU URBAN', 'BIDAR', 'BIJAPUR', 'CHAMARAJANAGAR',\n",
       "       'CHIKBALLAPUR', 'CHIKMAGALUR', 'CHITRADURGA', 'DAKSHIN KANNAD',\n",
       "       'DAVANGERE', 'DHARWAD', 'GADAG', 'GULBARGA', 'HASSAN', 'HAVERI',\n",
       "       'KODAGU', 'KOLAR', 'KOPPAL', 'MANDYA', 'MYSORE', 'RAICHUR',\n",
       "       'RAMANAGARA', 'SHIMOGA', 'TUMKUR', 'UDUPI', 'UTTAR KANNAD',\n",
       "       'YADGIR'], dtype=object)"
      ]
     },
     "execution_count": 2,
     "metadata": {},
     "output_type": "execute_result"
    }
   ],
   "source": [
    "df = pd.read_csv('C:/Users/Suhas/Desktop/crop_production.csv')\n",
    "df = df[df['State_Name'] == \"Karnataka\"]\n",
    "df['Yield'] = df['Production']/df['Area']\n",
    "df = df.drop('Area', axis=1)\n",
    "df = df.drop('Production', axis=1)\n",
    "df[\"District_Name\"].unique()"
   ]
  },
  {
   "cell_type": "code",
   "execution_count": 3,
   "metadata": {},
   "outputs": [],
   "source": [
    "# for i in df['Crop'].unique():\n",
    "#     if len(df[df['Crop']==i]['Season'].unique())==4:\n",
    "#         print(i)\n",
    "        "
   ]
  },
  {
   "cell_type": "code",
   "execution_count": 4,
   "metadata": {},
   "outputs": [
    {
     "name": "stdout",
     "output_type": "stream",
     "text": [
      "(21079, 5)\n"
     ]
    }
   ],
   "source": [
    "data = df.dropna()\n",
    "data1 = data.drop([\"State_Name\"],axis=1)\n",
    "print(data1.shape)"
   ]
  },
  {
   "cell_type": "code",
   "execution_count": 5,
   "metadata": {},
   "outputs": [
    {
     "data": {
      "text/html": [
       "<div>\n",
       "<style scoped>\n",
       "    .dataframe tbody tr th:only-of-type {\n",
       "        vertical-align: middle;\n",
       "    }\n",
       "\n",
       "    .dataframe tbody tr th {\n",
       "        vertical-align: top;\n",
       "    }\n",
       "\n",
       "    .dataframe thead th {\n",
       "        text-align: right;\n",
       "    }\n",
       "</style>\n",
       "<table border=\"1\" class=\"dataframe\">\n",
       "  <thead>\n",
       "    <tr style=\"text-align: right;\">\n",
       "      <th></th>\n",
       "      <th>Crop_Year</th>\n",
       "      <th>Yield</th>\n",
       "      <th>District_Name_BAGALKOT</th>\n",
       "      <th>District_Name_BANGALORE RURAL</th>\n",
       "      <th>District_Name_BELGAUM</th>\n",
       "      <th>District_Name_BELLARY</th>\n",
       "      <th>District_Name_BENGALURU URBAN</th>\n",
       "      <th>District_Name_BIDAR</th>\n",
       "      <th>District_Name_BIJAPUR</th>\n",
       "      <th>District_Name_CHAMARAJANAGAR</th>\n",
       "      <th>...</th>\n",
       "      <th>Crop_Soyabean</th>\n",
       "      <th>Crop_Sugarcane</th>\n",
       "      <th>Crop_Sunflower</th>\n",
       "      <th>Crop_Sweet potato</th>\n",
       "      <th>Crop_Tapioca</th>\n",
       "      <th>Crop_Tobacco</th>\n",
       "      <th>Crop_Tomato</th>\n",
       "      <th>Crop_Turmeric</th>\n",
       "      <th>Crop_Urad</th>\n",
       "      <th>Crop_Wheat</th>\n",
       "    </tr>\n",
       "  </thead>\n",
       "  <tbody>\n",
       "    <tr>\n",
       "      <th>76865</th>\n",
       "      <td>1998</td>\n",
       "      <td>0.422814</td>\n",
       "      <td>1</td>\n",
       "      <td>0</td>\n",
       "      <td>0</td>\n",
       "      <td>0</td>\n",
       "      <td>0</td>\n",
       "      <td>0</td>\n",
       "      <td>0</td>\n",
       "      <td>0</td>\n",
       "      <td>...</td>\n",
       "      <td>0</td>\n",
       "      <td>0</td>\n",
       "      <td>0</td>\n",
       "      <td>0</td>\n",
       "      <td>0</td>\n",
       "      <td>0</td>\n",
       "      <td>0</td>\n",
       "      <td>0</td>\n",
       "      <td>0</td>\n",
       "      <td>0</td>\n",
       "    </tr>\n",
       "    <tr>\n",
       "      <th>76866</th>\n",
       "      <td>1998</td>\n",
       "      <td>1.072050</td>\n",
       "      <td>1</td>\n",
       "      <td>0</td>\n",
       "      <td>0</td>\n",
       "      <td>0</td>\n",
       "      <td>0</td>\n",
       "      <td>0</td>\n",
       "      <td>0</td>\n",
       "      <td>0</td>\n",
       "      <td>...</td>\n",
       "      <td>0</td>\n",
       "      <td>0</td>\n",
       "      <td>0</td>\n",
       "      <td>0</td>\n",
       "      <td>0</td>\n",
       "      <td>0</td>\n",
       "      <td>0</td>\n",
       "      <td>0</td>\n",
       "      <td>0</td>\n",
       "      <td>0</td>\n",
       "    </tr>\n",
       "    <tr>\n",
       "      <th>76867</th>\n",
       "      <td>1998</td>\n",
       "      <td>0.859155</td>\n",
       "      <td>1</td>\n",
       "      <td>0</td>\n",
       "      <td>0</td>\n",
       "      <td>0</td>\n",
       "      <td>0</td>\n",
       "      <td>0</td>\n",
       "      <td>0</td>\n",
       "      <td>0</td>\n",
       "      <td>...</td>\n",
       "      <td>0</td>\n",
       "      <td>0</td>\n",
       "      <td>0</td>\n",
       "      <td>0</td>\n",
       "      <td>0</td>\n",
       "      <td>0</td>\n",
       "      <td>0</td>\n",
       "      <td>0</td>\n",
       "      <td>0</td>\n",
       "      <td>0</td>\n",
       "    </tr>\n",
       "    <tr>\n",
       "      <th>76868</th>\n",
       "      <td>1998</td>\n",
       "      <td>1.453465</td>\n",
       "      <td>1</td>\n",
       "      <td>0</td>\n",
       "      <td>0</td>\n",
       "      <td>0</td>\n",
       "      <td>0</td>\n",
       "      <td>0</td>\n",
       "      <td>0</td>\n",
       "      <td>0</td>\n",
       "      <td>...</td>\n",
       "      <td>0</td>\n",
       "      <td>0</td>\n",
       "      <td>0</td>\n",
       "      <td>0</td>\n",
       "      <td>0</td>\n",
       "      <td>0</td>\n",
       "      <td>0</td>\n",
       "      <td>0</td>\n",
       "      <td>0</td>\n",
       "      <td>0</td>\n",
       "    </tr>\n",
       "    <tr>\n",
       "      <th>76869</th>\n",
       "      <td>1998</td>\n",
       "      <td>0.472507</td>\n",
       "      <td>1</td>\n",
       "      <td>0</td>\n",
       "      <td>0</td>\n",
       "      <td>0</td>\n",
       "      <td>0</td>\n",
       "      <td>0</td>\n",
       "      <td>0</td>\n",
       "      <td>0</td>\n",
       "      <td>...</td>\n",
       "      <td>0</td>\n",
       "      <td>0</td>\n",
       "      <td>0</td>\n",
       "      <td>0</td>\n",
       "      <td>0</td>\n",
       "      <td>0</td>\n",
       "      <td>0</td>\n",
       "      <td>0</td>\n",
       "      <td>0</td>\n",
       "      <td>0</td>\n",
       "    </tr>\n",
       "  </tbody>\n",
       "</table>\n",
       "<p>5 rows × 95 columns</p>\n",
       "</div>"
      ],
      "text/plain": [
       "       Crop_Year     Yield  District_Name_BAGALKOT  \\\n",
       "76865       1998  0.422814                       1   \n",
       "76866       1998  1.072050                       1   \n",
       "76867       1998  0.859155                       1   \n",
       "76868       1998  1.453465                       1   \n",
       "76869       1998  0.472507                       1   \n",
       "\n",
       "       District_Name_BANGALORE RURAL  District_Name_BELGAUM  \\\n",
       "76865                              0                      0   \n",
       "76866                              0                      0   \n",
       "76867                              0                      0   \n",
       "76868                              0                      0   \n",
       "76869                              0                      0   \n",
       "\n",
       "       District_Name_BELLARY  District_Name_BENGALURU URBAN  \\\n",
       "76865                      0                              0   \n",
       "76866                      0                              0   \n",
       "76867                      0                              0   \n",
       "76868                      0                              0   \n",
       "76869                      0                              0   \n",
       "\n",
       "       District_Name_BIDAR  District_Name_BIJAPUR  \\\n",
       "76865                    0                      0   \n",
       "76866                    0                      0   \n",
       "76867                    0                      0   \n",
       "76868                    0                      0   \n",
       "76869                    0                      0   \n",
       "\n",
       "       District_Name_CHAMARAJANAGAR  ...  Crop_Soyabean  Crop_Sugarcane  \\\n",
       "76865                             0  ...              0               0   \n",
       "76866                             0  ...              0               0   \n",
       "76867                             0  ...              0               0   \n",
       "76868                             0  ...              0               0   \n",
       "76869                             0  ...              0               0   \n",
       "\n",
       "       Crop_Sunflower  Crop_Sweet potato  Crop_Tapioca  Crop_Tobacco  \\\n",
       "76865               0                  0             0             0   \n",
       "76866               0                  0             0             0   \n",
       "76867               0                  0             0             0   \n",
       "76868               0                  0             0             0   \n",
       "76869               0                  0             0             0   \n",
       "\n",
       "       Crop_Tomato  Crop_Turmeric  Crop_Urad  Crop_Wheat  \n",
       "76865            0              0          0           0  \n",
       "76866            0              0          0           0  \n",
       "76867            0              0          0           0  \n",
       "76868            0              0          0           0  \n",
       "76869            0              0          0           0  \n",
       "\n",
       "[5 rows x 95 columns]"
      ]
     },
     "execution_count": 5,
     "metadata": {},
     "output_type": "execute_result"
    }
   ],
   "source": [
    "data_dum = pd.get_dummies(data1)\n",
    "data_dum.columns = data_dum.columns.str.strip()\n",
    "data_dum[:5]"
   ]
  },
  {
   "cell_type": "code",
   "execution_count": 6,
   "metadata": {},
   "outputs": [
    {
     "name": "stdout",
     "output_type": "stream",
     "text": [
      "x_train : (14755, 94)\n",
      "x_test : (6324, 94)\n",
      "y_train : (14755, 1)\n",
      "y_test : (6324, 1)\n"
     ]
    }
   ],
   "source": [
    "x = data_dum.drop(\"Yield\",axis=1)\n",
    "y = data_dum[[\"Yield\"]]\n",
    "from sklearn.model_selection import train_test_split\n",
    "x_train,x_test,y_train,y_test = train_test_split(x,y,test_size=0.3, random_state=42)\n",
    "print(\"x_train :\",x_train.shape)\n",
    "print(\"x_test :\",x_test.shape)\n",
    "print(\"y_train :\",y_train.shape)\n",
    "print(\"y_test :\",y_test.shape)"
   ]
  },
  {
   "cell_type": "code",
   "execution_count": 9,
   "metadata": {},
   "outputs": [],
   "source": [
    "from sklearn.ensemble import RandomForestRegressor\n",
    "model = RandomForestRegressor()\n",
    "model.fit(x_train,y_train.values.ravel())"
   ]
  },
  {
   "cell_type": "code",
   "execution_count": 10,
   "metadata": {},
   "outputs": [
    {
     "name": "stderr",
     "output_type": "stream",
     "text": [
      "<ipython-input-10-fc86ab92dbf7>:5: SettingWithCopyWarning: \n",
      "A value is trying to be set on a copy of a slice from a DataFrame.\n",
      "Try using .loc[row_indexer,col_indexer] = value instead\n",
      "\n",
      "See the caveats in the documentation: https://pandas.pydata.org/pandas-docs/stable/user_guide/indexing.html#returning-a-view-versus-a-copy\n",
      "  z['Prediction']=preds\n"
     ]
    },
    {
     "data": {
      "text/html": [
       "<div>\n",
       "<style scoped>\n",
       "    .dataframe tbody tr th:only-of-type {\n",
       "        vertical-align: middle;\n",
       "    }\n",
       "\n",
       "    .dataframe tbody tr th {\n",
       "        vertical-align: top;\n",
       "    }\n",
       "\n",
       "    .dataframe thead th {\n",
       "        text-align: right;\n",
       "    }\n",
       "</style>\n",
       "<table border=\"1\" class=\"dataframe\">\n",
       "  <thead>\n",
       "    <tr style=\"text-align: right;\">\n",
       "      <th></th>\n",
       "      <th>Yield</th>\n",
       "      <th>Prediction</th>\n",
       "    </tr>\n",
       "  </thead>\n",
       "  <tbody>\n",
       "    <tr>\n",
       "      <th>80795</th>\n",
       "      <td>0.217391</td>\n",
       "      <td>0.218413</td>\n",
       "    </tr>\n",
       "    <tr>\n",
       "      <th>93629</th>\n",
       "      <td>0.530328</td>\n",
       "      <td>0.592447</td>\n",
       "    </tr>\n",
       "    <tr>\n",
       "      <th>83631</th>\n",
       "      <td>114.000000</td>\n",
       "      <td>104.718742</td>\n",
       "    </tr>\n",
       "    <tr>\n",
       "      <th>93248</th>\n",
       "      <td>2.022854</td>\n",
       "      <td>2.254897</td>\n",
       "    </tr>\n",
       "    <tr>\n",
       "      <th>79734</th>\n",
       "      <td>1.321169</td>\n",
       "      <td>1.426237</td>\n",
       "    </tr>\n",
       "    <tr>\n",
       "      <th>...</th>\n",
       "      <td>...</td>\n",
       "      <td>...</td>\n",
       "    </tr>\n",
       "    <tr>\n",
       "      <th>85840</th>\n",
       "      <td>0.963268</td>\n",
       "      <td>1.149613</td>\n",
       "    </tr>\n",
       "    <tr>\n",
       "      <th>91339</th>\n",
       "      <td>10.366584</td>\n",
       "      <td>10.443634</td>\n",
       "    </tr>\n",
       "    <tr>\n",
       "      <th>82839</th>\n",
       "      <td>0.418968</td>\n",
       "      <td>0.360244</td>\n",
       "    </tr>\n",
       "    <tr>\n",
       "      <th>88786</th>\n",
       "      <td>0.590884</td>\n",
       "      <td>0.471066</td>\n",
       "    </tr>\n",
       "    <tr>\n",
       "      <th>82505</th>\n",
       "      <td>0.328381</td>\n",
       "      <td>0.435888</td>\n",
       "    </tr>\n",
       "  </tbody>\n",
       "</table>\n",
       "<p>6324 rows × 2 columns</p>\n",
       "</div>"
      ],
      "text/plain": [
       "            Yield  Prediction\n",
       "80795    0.217391    0.218413\n",
       "93629    0.530328    0.592447\n",
       "83631  114.000000  104.718742\n",
       "93248    2.022854    2.254897\n",
       "79734    1.321169    1.426237\n",
       "...           ...         ...\n",
       "85840    0.963268    1.149613\n",
       "91339   10.366584   10.443634\n",
       "82839    0.418968    0.360244\n",
       "88786    0.590884    0.471066\n",
       "82505    0.328381    0.435888\n",
       "\n",
       "[6324 rows x 2 columns]"
      ]
     },
     "execution_count": 10,
     "metadata": {},
     "output_type": "execute_result"
    }
   ],
   "source": [
    "preds = model.predict(x_test)\n",
    "\n",
    "from sklearn.metrics import mean_squared_error, r2_score\n",
    "# mean_squared_error(y_test,preds)\n",
    "# r2_score(y_test,preds)\n",
    "z=y_test\n",
    "z['Prediction']=preds\n",
    "z"
   ]
  },
  {
   "cell_type": "code",
   "execution_count": 11,
   "metadata": {},
   "outputs": [
    {
     "name": "stdout",
     "output_type": "stream",
     "text": [
      "r2 score 0.9692312591711125\n",
      "2.319581509723061\n",
      "0.8206479829075334\n"
     ]
    }
   ],
   "source": [
    "print(\"r2 score\",r2_score(y_test.drop(\"Prediction\",axis=1),preds))\n",
    "from sklearn.metrics import mean_squared_error\n",
    "from math import sqrt\n",
    "\n",
    "#calculate RMSE\n",
    "print(sqrt(mean_squared_error(z[\"Yield\"], preds)))\n",
    "print(sqrt(mean_squared_error(y_train, model.predict(x_train))))"
   ]
  },
  {
   "cell_type": "code",
   "execution_count": 14,
   "metadata": {},
   "outputs": [
    {
     "data": {
      "image/png": "[encoded data removed]",
      "text/plain": [
       "<Figure size 1800x450 with 1 Axes>"
      ]
     },
     "metadata": {
      "needs_background": "light"
     },
     "output_type": "display_data"
    }
   ],
   "source": [
    "from matplotlib.pyplot import figure\n",
    "\n",
    "figure(figsize=(20, 5), dpi=90)\n",
    "n=np.arange(0,200)\n",
    "plt.plot(n,z['Yield'][50:250],color=\"red\")\n",
    "plt.get_current_fig_manager().full_screen_toggle()\n",
    "# plt.show()\n",
    "# figure(figsize=(20, 6), dpi=90)\n",
    "plt.plot(n,z['Prediction'][50:250],color=\"green\")\n",
    "plt.legend([\"actual\", \"predicted\"], loc=\"upper left\")\n",
    "plt.show()"
   ]
  },
  {
   "cell_type": "code",
   "execution_count": 55,
   "metadata": {},
   "outputs": [
    {
     "name": "stdout",
     "output_type": "stream",
     "text": [
      "[1.04294638]\n"
     ]
    }
   ],
   "source": [
    "def cropYield():\n",
    "    district = \"BAGALKOT\"\n",
    "    year = 2022\n",
    "    season = \"Kharif\"\n",
    "    crop = \"Bajra\"\n",
    "    area = 100\n",
    "    import joblib\n",
    "#     model1 = joblib.load('C:/Users/Suhas/Downloads/cropYield.pkl')\n",
    "\n",
    "    column_names=['Crop_Year', 'District_Name_BAGALKOT', 'District_Name_BANGALORE RURAL',\n",
    "       'District_Name_BELGAUM', 'District_Name_BELLARY',\n",
    "       'District_Name_BENGALURU URBAN', 'District_Name_BIDAR',\n",
    "       'District_Name_BIJAPUR', 'District_Name_CHAMARAJANAGAR',\n",
    "       'District_Name_CHIKBALLAPUR', 'District_Name_CHIKMAGALUR',\n",
    "       'District_Name_CHITRADURGA', 'District_Name_DAKSHIN KANNAD',\n",
    "       'District_Name_DAVANGERE', 'District_Name_DHARWAD',\n",
    "       'District_Name_GADAG', 'District_Name_GULBARGA', 'District_Name_HASSAN',\n",
    "       'District_Name_HAVERI', 'District_Name_KODAGU', 'District_Name_KOLAR',\n",
    "       'District_Name_KOPPAL', 'District_Name_MANDYA', 'District_Name_MYSORE',\n",
    "       'District_Name_RAICHUR', 'District_Name_RAMANAGARA',\n",
    "       'District_Name_SHIMOGA', 'District_Name_TUMKUR', 'District_Name_UDUPI',\n",
    "       'District_Name_UTTAR KANNAD', 'District_Name_YADGIR', 'Season_Kharif',\n",
    "       'Season_Rabi', 'Season_Summer', 'Season_Whole Year',\n",
    "       'Crop_Arcanut (Processed)', 'Crop_Arecanut', 'Crop_Arhar/Tur',\n",
    "       'Crop_Atcanut (Raw)', 'Crop_Bajra', 'Crop_Banana',\n",
    "       'Crop_Beans & Mutter(Vegetable)', 'Crop_Black pepper', 'Crop_Brinjal',\n",
    "       'Crop_Cardamom', 'Crop_Cashewnut', 'Crop_Cashewnut Processed',\n",
    "       'Crop_Cashewnut Raw', 'Crop_Castor seed', 'Crop_Citrus Fruit',\n",
    "       'Crop_Coconut', 'Crop_Coriander', 'Crop_Cotton(lint)',\n",
    "       'Crop_Cowpea(Lobia)', 'Crop_Dry chillies', 'Crop_Dry ginger',\n",
    "       'Crop_Garlic', 'Crop_Gram', 'Crop_Grapes', 'Crop_Groundnut',\n",
    "       'Crop_Horse-gram', 'Crop_Jowar', 'Crop_Linseed', 'Crop_Maize',\n",
    "       'Crop_Mango', 'Crop_Mesta', 'Crop_Moong(Green Gram)', 'Crop_Niger seed',\n",
    "       'Crop_Onion', 'Crop_Other  Rabi pulses', 'Crop_Other Fresh Fruits',\n",
    "       'Crop_Other Kharif pulses', 'Crop_Paddy', 'Crop_Papaya',\n",
    "       'Crop_Peas & beans (Pulses)', 'Crop_Pome Fruit', 'Crop_Potato',\n",
    "       'Crop_Ragi', 'Crop_Rapeseed &Mustard', 'Crop_Rice', 'Crop_Safflower',\n",
    "       'Crop_Sannhamp', 'Crop_Sesamum', 'Crop_Small millets', 'Crop_Soyabean',\n",
    "       'Crop_Sugarcane', 'Crop_Sunflower', 'Crop_Sweet potato', 'Crop_Tapioca',\n",
    "       'Crop_Tobacco', 'Crop_Tomato', 'Crop_Turmeric', 'Crop_Urad',\n",
    "       'Crop_Wheat']\n",
    "\n",
    "    df = pd.DataFrame(columns = column_names)\n",
    "    df = df.append({'Crop_Year': year, ('District_Name_'+district.upper()): 1, ('Season_'+season): 1, ('Crop_'+crop):1}, ignore_index = True)\n",
    "    df = df.fillna(0)\n",
    "#     print(df.iloc[0])\n",
    "    pred=model.predict([df.iloc[0]])\n",
    "    return {'prediction': pred}\n",
    "print(cropYield()['prediction'])"
   ]
  },
  {
   "cell_type": "code",
   "execution_count": 54,
   "metadata": {},
   "outputs": [
    {
     "data": {
      "text/plain": [
       "['cropYield.pkl']"
      ]
     },
     "execution_count": 54,
     "metadata": {},
     "output_type": "execute_result"
    }
   ],
   "source": [
    "import joblib\n",
    "joblib.dump(model,'cropYield.pkl',compress=3)"
   ]
  },
  {
   "cell_type": "code",
   "execution_count": null,
   "metadata": {},
   "outputs": [],
   "source": []
  }
 ],
 "metadata": {
  "kernelspec": {
   "display_name": "Python 3",
   "language": "python",
   "name": "python3"
  },
  "language_info": {
   "codemirror_mode": {
    "name": "ipython",
    "version": 3
   },
   "file_extension": ".py",
   "mimetype": "text/x-python",
   "name": "python",
   "nbconvert_exporter": "python",
   "pygments_lexer": "ipython3",
   "version": "3.8.5"
  }
 },
 "nbformat": 4,
 "nbformat_minor": 4
}
